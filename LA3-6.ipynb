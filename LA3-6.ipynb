{
 "cells": [
  {
   "cell_type": "code",
   "execution_count": 3,
   "id": "973845bc-c0f4-413d-b177-2816e5168442",
   "metadata": {},
   "outputs": [],
   "source": [
    "class kruskal:\n",
    "    def __init__(self,vertices,graph):\n",
    "        self.graph=graph\n",
    "        self.size=vertices\n",
    "        self.rank=[]\n",
    "        self.parent=[]\n",
    "\n",
    "    def find_parent(self,vertex):\n",
    "        if self.parent[vertex]==vertex:\n",
    "            return vertex\n",
    "        self.parent[vertex]=self.find_parent(self.parent[vertex])\n",
    "        return self.parent[vertex]\n",
    "\n",
    "    def union(self,u,v):\n",
    "        parent_u=self.find_parent(u)\n",
    "        parent_v=self.find_parent(v)\n",
    "        if parent_v==parent_u:\n",
    "            return\n",
    "        if self.rank[parent_u]<self.rank[parent_v]:\n",
    "            self.rank[parent_u]=parent_v\n",
    "        else:\n",
    "            self.rank[parent_v]=parent_u\n",
    "            self.rank[parent_u]+=1\n",
    "\n",
    "    def mst(self):\n",
    "        tree=[]\n",
    "        e,index=0,0\n",
    "        self.graph.sort(key=lambda k:k[2])\n",
    "        for i in range(self.size+1):\n",
    "            self.parent.append(i)\n",
    "            self.rank.append(0)\n",
    "        while e<self.size-1:\n",
    "            u,v,w=self.graph[index]\n",
    "            index+=1\n",
    "            x,y=self.find_parent(u),self.find_parent(v)\n",
    "        if x!=y:\n",
    "            e+=1\n",
    "            tree.append([u,v,w])\n",
    "            self.union(x,y)\n",
    "        return tree\n",
    "        "
   ]
  },
  {
   "cell_type": "code",
   "execution_count": 19,
   "id": "af8ac875-df13-41d4-ad0a-f29d4f1604d5",
   "metadata": {},
   "outputs": [
    {
     "name": "stdin",
     "output_type": "stream",
     "text": [
      "Enter the number of vertices:  5\n",
      "Enter number of edges:  7\n"
     ]
    },
    {
     "name": "stdout",
     "output_type": "stream",
     "text": [
      "Enter the edges of the graph (vertex1 vertex2 weight):\n"
     ]
    },
    {
     "name": "stdin",
     "output_type": "stream",
     "text": [
      " 1 2 1\n",
      " 1 3 7\n",
      " 1 4 10\n",
      " 1 5 5\n",
      " 2 3 3\n",
      " 3 4 4\n",
      " 4 5 2\n"
     ]
    },
    {
     "name": "stdout",
     "output_type": "stream",
     "text": [
      "[[1, 2, 1], [4, 5, 2], [2, 3, 3], [3, 4, 4]]\n"
     ]
    }
   ],
   "source": [
    "def main():\n",
    "    n = int(input(\"Enter the number of vertices: \"))\n",
    "    graph = []\n",
    "    edge=int(input(\"Enter number of edges: \"))\n",
    "    print(\"Enter the edges of the graph (vertex1 vertex2 weight):\")\n",
    "    for _ in range(edge):\n",
    "        u, v, w = map(int, input().split())\n",
    "        graph.append([u, v, w])\n",
    "\n",
    "    algo = kruskal(n, graph)\n",
    "    print(algo.mst())\n",
    "\n",
    "main()"
   ]
  },
  {
   "attachments": {
    "3a55ae1e-484e-4630-a437-55f83d894916.png": {
     "image/png": "[encoded data removed]"
    }
   },
   "cell_type": "markdown",
   "id": "b2300273-63d3-4692-b2b9-25206f688e5f",
   "metadata": {},
   "source": [
    "![kruskals-algorithm1.png](attachment:3a55ae1e-484e-4630-a437-55f83d894916.png)"
   ]
  },
  {
   "cell_type": "code",
   "execution_count": null,
   "id": "4c5f6ee7-f62f-4380-8ea4-1857acb32141",
   "metadata": {},
   "outputs": [],
   "source": [
    "#EDGES OF GRAPH\n",
    "#  1 2 1\n",
    "#  1 3 7\n",
    "#  1 4 10\n",
    "#  1 5 5\n",
    "#  2 3 3\n",
    "#  3 4 4\n",
    "#  4 5 2"
   ]
  }
 ],
 "metadata": {
  "kernelspec": {
   "display_name": "Python 3 (ipykernel)",
   "language": "python",
   "name": "python3"
  },
  "language_info": {
   "codemirror_mode": {
    "name": "ipython",
    "version": 3
   },
   "file_extension": ".py",
   "mimetype": "text/x-python",
   "name": "python",
   "nbconvert_exporter": "python",
   "pygments_lexer": "ipython3",
   "version": "3.11.1"
  }
 },
 "nbformat": 4,
 "nbformat_minor": 5
}
