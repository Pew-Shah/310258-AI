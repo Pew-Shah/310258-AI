{
 "cells": [
  {
   "cell_type": "code",
   "execution_count": 1,
   "id": "7ede9d3d-482b-46f0-8b1e-764fe2b669aa",
   "metadata": {},
   "outputs": [],
   "source": [
    "import heapq\n",
    "from typing import List, Dict"
   ]
  },
  {
   "cell_type": "code",
   "execution_count": 2,
   "id": "b4ebb96f-8491-4ab6-ad00-3ba557652308",
   "metadata": {},
   "outputs": [],
   "source": [
    "def dijkstra(graph: Dict[int,Dict[int,int]],start:int,vertices:int)->List[int]:\n",
    "    pq=[]\n",
    "    distance=[float('inf') for _ in range(vertices)]\n",
    "    distance[start]=0\n",
    "    heapq.heappush(pq,[0,start])\n",
    "\n",
    "    while pq:\n",
    "        node=heapq.heappop(pq)\n",
    "        dis=node[0]\n",
    "        element=node[1]\n",
    "\n",
    "        for adj,weight in graph[element].items():\n",
    "            if distance[adj]>dis+weight:\n",
    "                distance[adj]=dis+weight\n",
    "                heapq.heappush(pq,[dis+weight,adj])\n",
    "    return distance"
   ]
  },
  {
   "cell_type": "code",
   "execution_count": 3,
   "id": "17bae3fd-1ba5-454b-b641-f590cf534f67",
   "metadata": {},
   "outputs": [],
   "source": [
    "def parse_graph_input():\n",
    "    graph={}\n",
    "    num_ver=int(input(\"Enter the number of vertices: \"))\n",
    "    for i in range(num_ver):\n",
    "        line=input(f\"Enter adjacent vertices and weight for vertex {i}:\")\n",
    "        adj_vertex={}\n",
    "        for pair in line.split(\",\"):\n",
    "            vertex,weight=map(int,pair.split(\":\"))\n",
    "            adj_vertex[vertex]=weight\n",
    "        graph[i]=adj_vertex\n",
    "    return graph"
   ]
  },
  {
   "cell_type": "code",
   "execution_count": 5,
   "id": "1b7f97d7-44b3-460f-ae54-a02bf40493b8",
   "metadata": {},
   "outputs": [
    {
     "name": "stdin",
     "output_type": "stream",
     "text": [
      "Enter the number of vertices:  7\n",
      "Enter adjacent vertices and weight for vertex 0: 1:2, 2:6\n",
      "Enter adjacent vertices and weight for vertex 1: 0:2,3:5\n",
      "Enter adjacent vertices and weight for vertex 2: 0:6,3:8\n",
      "Enter adjacent vertices and weight for vertex 3: 1:5,2:8,4:10,5:15\n",
      "Enter adjacent vertices and weight for vertex 4: 3:10,5:6,6:2\n",
      "Enter adjacent vertices and weight for vertex 5: 3:15,4:6,6:6\n",
      "Enter adjacent vertices and weight for vertex 6: 4:2,5:6\n"
     ]
    },
    {
     "name": "stdout",
     "output_type": "stream",
     "text": [
      "Graph :\n",
      "{0: {1: 2, 2: 6}, 1: {0: 2, 3: 5}, 2: {0: 6, 3: 8}, 3: {1: 5, 2: 8, 4: 10, 5: 15}, 4: {3: 10, 5: 6, 6: 2}, 5: {3: 15, 4: 6, 6: 6}, 6: {4: 2, 5: 6}}\n"
     ]
    },
    {
     "name": "stdin",
     "output_type": "stream",
     "text": [
      "Enter starting vertex:  0\n"
     ]
    },
    {
     "name": "stdout",
     "output_type": "stream",
     "text": [
      "Shortest distance from starting Vertex:\n",
      "[0, 2, 6, 7, 17, 22, 19]\n"
     ]
    }
   ],
   "source": [
    "ugraph= parse_graph_input()\n",
    "print (\"Graph :\")\n",
    "print(ugraph)\n",
    "\n",
    "start_vertex=int(input(\"Enter starting vertex: \"))\n",
    "print(\"Shortest distance from starting Vertex:\")\n",
    "print(dijkstra(ugraph,start_vertex,len(ugraph)))"
   ]
  },
  {
   "cell_type": "code",
   "execution_count": null,
   "id": "87382ff2-5f26-4c37-9e07-458d40f511e7",
   "metadata": {},
   "outputs": [],
   "source": [
    "\n"
   ]
  },
  {
   "cell_type": "code",
   "execution_count": null,
   "id": "88623dec-d39f-4301-8444-34a016e0d7d8",
   "metadata": {},
   "outputs": [],
   "source": []
  }
 ],
 "metadata": {
  "kernelspec": {
   "display_name": "Python 3 (ipykernel)",
   "language": "python",
   "name": "python3"
  },
  "language_info": {
   "codemirror_mode": {
    "name": "ipython",
    "version": 3
   },
   "file_extension": ".py",
   "mimetype": "text/x-python",
   "name": "python",
   "nbconvert_exporter": "python",
   "pygments_lexer": "ipython3",
   "version": "3.11.1"
  }
 },
 "nbformat": 4,
 "nbformat_minor": 5
}
