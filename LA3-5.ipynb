{
 "cells": [
  {
   "cell_type": "code",
   "execution_count": 3,
   "id": "766e4b84-5f4c-4ad3-b7f0-83498438ab39",
   "metadata": {},
   "outputs": [
    {
     "name": "stdin",
     "output_type": "stream",
     "text": [
      "Enter the number of vertices:  5\n"
     ]
    },
    {
     "name": "stdout",
     "output_type": "stream",
     "text": [
      "Enter the adjacency matrix:\n"
     ]
    },
    {
     "name": "stdin",
     "output_type": "stream",
     "text": [
      " 0 3 2 6 0\n",
      " 3 0 4 0 2\n",
      " 2 4 0 4 0\n",
      " 6 0 4 0 0\n",
      " 0 2 0 0 0\n"
     ]
    },
    {
     "name": "stdout",
     "output_type": "stream",
     "text": [
      "Minimum Spanning Tree (MST):\n",
      "[source,destination,weight]\n",
      "[[0, 2, 2], [0, 1, 3], [1, 4, 2], [2, 3, 4]]\n"
     ]
    }
   ],
   "source": [
    "import heapq\n",
    "class Prims:\n",
    "    def __init__(self, _vertices, _graph):\n",
    "        self.graph = _graph\n",
    "        self.size = _vertices\n",
    "\n",
    "    def find_mst(self):\n",
    "        mst = []\n",
    "        min_heap = [[0, 0, 0]] \n",
    "        visit = []\n",
    "        while len(min_heap) > 0:\n",
    "            w,s,d = heapq.heappop(min_heap)\n",
    "            if d in visit:\n",
    "                continue\n",
    "            mst.append([s,d,w])\n",
    "            visit.append(d)\n",
    "            for i in range(self.size):\n",
    "                if self.graph[d][i] > 0:\n",
    "                    heapq.heappush(min_heap, [self.graph[d][i],d, i])\n",
    "        mst.pop(0)\n",
    "        return mst\n",
    "    \n",
    "vertices = int(input(\"Enter the number of vertices: \"))\n",
    "graph = []\n",
    "print(\"Enter the adjacency matrix:\")\n",
    "for i in range(vertices):\n",
    "    row = list(map(int, input().split()))\n",
    "    graph.append(row)\n",
    "\n",
    "algo = Prims(vertices, graph)\n",
    "print(\"Minimum Spanning Tree (MST):\")\n",
    "print(\"[source,destination,weight]\")\n",
    "print(algo.find_mst())"
   ]
  },
  {
   "attachments": {
    "2f72f86d-ff40-46e3-aad4-53ac120f2127.png": {
     "image/png": "[encoded data removed]"
    }
   },
   "cell_type": "markdown",
   "id": "55a899d0-b0c1-485c-bb9a-e365576b451b",
   "metadata": {},
   "source": [
    "![Primexample.png](attachment:2f72f86d-ff40-46e3-aad4-53ac120f2127.png)"
   ]
  },
  {
   "cell_type": "code",
   "execution_count": null,
   "id": "c69de85f-157a-48de-98cb-f9b1cbab2616",
   "metadata": {},
   "outputs": [],
   "source": [
    "#MATRIX:\n",
    "# 0 3 2 6 0\n",
    "# 3 0 4 0 2\n",
    "# 2 4 0 4 0\n",
    "# 6 0 4 0 0\n",
    "# 0 2 0 0 0"
   ]
  }
 ],
 "metadata": {
  "kernelspec": {
   "display_name": "Python 3 (ipykernel)",
   "language": "python",
   "name": "python3"
  },
  "language_info": {
   "codemirror_mode": {
    "name": "ipython",
    "version": 3
   },
   "file_extension": ".py",
   "mimetype": "text/x-python",
   "name": "python",
   "nbconvert_exporter": "python",
   "pygments_lexer": "ipython3",
   "version": "3.11.1"
  }
 },
 "nbformat": 4,
 "nbformat_minor": 5
}
