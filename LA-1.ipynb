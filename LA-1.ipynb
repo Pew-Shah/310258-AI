{
 "cells": [
  {
   "cell_type": "markdown",
   "id": "9f66dc5d-26a9-4e2a-8c9a-9f42869ac7f7",
   "metadata": {},
   "source": [
    "LA1:Implement depth first search algorithm and Breadth First Search algorithm, Use an undirected\n",
    "graph and develop a recursive algorithm for searching all the vertices of a graph or tree data\n",
    "structure."
   ]
  },
  {
   "cell_type": "code",
   "execution_count": 57,
   "id": "35da6965-eb03-4691-85c0-bec66104c5d4",
   "metadata": {},
   "outputs": [],
   "source": [
    "graph = {\n",
    "    1:[2,3],\n",
    "    2:[1,4],\n",
    "    3:[1,4],\n",
    "    4:[2,3,5,7],\n",
    "    5:[6],\n",
    "    6:[5],\n",
    "    7:[4]\n",
    "}\n",
    "visited = []"
   ]
  },
  {
   "cell_type": "code",
   "execution_count": 58,
   "id": "f5e6ca00-1b93-4354-8b4b-93426376cbc9",
   "metadata": {},
   "outputs": [],
   "source": [
    "def bfs(node, target):\n",
    " \n",
    "    queue=[node]\n",
    "    visited.append(node)\n",
    "    if node==target:\n",
    "        return True\n",
    "    while queue:\n",
    "        m=queue.pop(0)\n",
    "        for a in graph[m]:\n",
    "            if a==target:\n",
    "                visited.append(a)\n",
    "                return True\n",
    "            if a not in visited:\n",
    "                queue.append(a)\n",
    "                visited.append(a)\n",
    "    return False"
   ]
  },
  {
   "cell_type": "code",
   "execution_count": 59,
   "id": "af6a736f-ac96-4608-b7c3-85ab6f867d9d",
   "metadata": {},
   "outputs": [
    {
     "data": {
      "text/plain": [
       "[1, 2, 3, 4, 5, 7, 6]"
      ]
     },
     "execution_count": 59,
     "metadata": {},
     "output_type": "execute_result"
    }
   ],
   "source": [
    "visited = []\n",
    "bfs(1,None)\n",
    "visited\n"
   ]
  },
  {
   "cell_type": "code",
   "execution_count": 60,
   "id": "ffeeca44-573e-4b2a-a8d7-befb2ac9b073",
   "metadata": {},
   "outputs": [],
   "source": [
    "def dfs(node,target):\n",
    "    if node not in visited:\n",
    "        visited.append(node)\n",
    "        if node==target:\n",
    "            return True\n",
    "        for a in graph[node]:\n",
    "            if dfs(a,target):\n",
    "                return True\n",
    "    return False"
   ]
  },
  {
   "cell_type": "code",
   "execution_count": 61,
   "id": "4bbb292a-4ec1-4881-8b91-ac11e0b690ba",
   "metadata": {},
   "outputs": [
    {
     "data": {
      "text/plain": [
       "[1, 2, 4, 3, 5, 6, 7]"
      ]
     },
     "execution_count": 61,
     "metadata": {},
     "output_type": "execute_result"
    }
   ],
   "source": [
    "visited = []\n",
    "dfs(1,None)\n",
    "visited"
   ]
  },
  {
   "cell_type": "code",
   "execution_count": null,
   "id": "d2761043-7177-4c3c-b88c-cef134d46512",
   "metadata": {},
   "outputs": [],
   "source": []
  }
 ],
 "metadata": {
  "kernelspec": {
   "display_name": "Python 3 (ipykernel)",
   "language": "python",
   "name": "python3"
  },
  "language_info": {
   "codemirror_mode": {
    "name": "ipython",
    "version": 3
   },
   "file_extension": ".py",
   "mimetype": "text/x-python",
   "name": "python",
   "nbconvert_exporter": "python",
   "pygments_lexer": "ipython3",
   "version": "3.11.1"
  }
 },
 "nbformat": 4,
 "nbformat_minor": 5
}
